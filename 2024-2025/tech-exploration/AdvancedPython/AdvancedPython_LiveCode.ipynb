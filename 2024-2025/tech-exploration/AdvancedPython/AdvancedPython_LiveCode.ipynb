{
 "cells": [
  {
   "cell_type": "markdown",
   "metadata": {},
   "source": [
    "## Data Structures"
   ]
  },
  {
   "cell_type": "markdown",
   "metadata": {},
   "source": [
    "### Sets"
   ]
  },
  {
   "cell_type": "code",
   "execution_count": null,
   "metadata": {},
   "outputs": [],
   "source": [
    "input_list = [\"apple\", \"banana\", \"apple\", \"orange\", \"banana\", \"grape\"]\n",
    "\n",
    "# This will store the elements we've already seen\n",
    "###\n",
    "seen = set()  \n",
    "result = []\n",
    " \n",
    "for item in input_list:\n",
    "    if item not in seen:\n",
    "        seen.add(item)      \n",
    "        result.append(item)  \n",
    "\n",
    "print(result)"
   ]
  },
  {
   "cell_type": "code",
   "execution_count": null,
   "metadata": {},
   "outputs": [],
   "source": [
    "# Set operations\n",
    "###\n",
    "\n",
    "def intersection(lst1, lst2):\n",
    "    return list(set(lst1) & set(lst2))\n",
    "\n",
    "def union(lst1, lst2):\n",
    "    return list(set(lst1) | set(lst2))\n",
    "\n",
    "lst1 = [1, 2, 2, 1, 0, 4]\n",
    "lst2 = [2, 2, 3, 5]\n",
    "print(intersection(lst1, lst2)) \n",
    "print(union(lst1, lst2)) "
   ]
  },
  {
   "cell_type": "markdown",
   "metadata": {},
   "source": [
    "### Heapq"
   ]
  },
  {
   "cell_type": "code",
   "execution_count": null,
   "metadata": {},
   "outputs": [],
   "source": [
    "import heapq\n",
    "\n",
    "numbers = [7, 10, 4, 3, 20, 15]\n",
    "k = 3\n",
    "###\n",
    "\n",
    "print(f\"The {k} smallest elements: {heapq.nsmallest(k, numbers)}\")\n",
    "\n",
    "print(f\"The {k} largest elements: {heapq.nlargest(k, numbers)}\")\n",
    "\n",
    "\n",
    "# Convert the list into a heap (min-heap)\n",
    "def convert_to_heap(nums):\n",
    "    heapq.heapify(nums)\n",
    "    return nums  # The list is now a heap in-place\n",
    "\n",
    "heap = convert_to_heap(numbers.copy())\n",
    "print(f\"Min-heap: {heap}\")\n",
    "\n",
    "\n",
    "# Add a new element to the heap and remove the smallest element\n",
    "def add_and_remove_from_heap(heap, new_element):\n",
    "    # First, push the new element\n",
    "    heapq.heappush(heap, new_element)\n",
    "    print(f\"Heap after adding {new_element}: {heap}\")\n",
    "    \n",
    "    # Then, pop the smallest element\n",
    "    smallest = heapq.heappop(heap)\n",
    "    print(f\"Heap after removing the smallest element ({smallest}): {heap}\")\n",
    "\n",
    "add_and_remove_from_heap(heap, 1)\n"
   ]
  },
  {
   "cell_type": "markdown",
   "metadata": {},
   "source": [
    "## Collections"
   ]
  },
  {
   "cell_type": "markdown",
   "metadata": {},
   "source": [
    "### Counter"
   ]
  },
  {
   "cell_type": "code",
   "execution_count": null,
   "metadata": {},
   "outputs": [],
   "source": [
    "# Given a list of integers, find the element that occurs the most frequently. If there is a tie, return the element that appears first.\n",
    "###\n",
    "\n",
    "from collections import Counter\n",
    "\n",
    "nums = [1, 2, 3, 2, 2, 1, 4]\n",
    "count = Counter(nums)\n",
    "print(count)\n",
    "print(count.most_common(1))\n",
    "print(count.most_common(1)[0])\n",
    "print(count.most_common(1)[0][0])\n"
   ]
  },
  {
   "cell_type": "code",
   "execution_count": null,
   "metadata": {},
   "outputs": [],
   "source": [
    "from collections import Counter\n",
    "\n",
    "# Define two counters\n",
    "counter1 = Counter({'a': 2, 'b': 3, 'c': 1})\n",
    "counter2 = Counter({'a': 1, 'b': 1, 'd': 4})\n",
    "\n",
    "# Adding the counters\n",
    "result = counter1 + counter2\n",
    "print(result)\n",
    "\n",
    "# Subtracting the counters\n",
    "result = counter1 - counter2\n",
    "print(result)"
   ]
  },
  {
   "cell_type": "markdown",
   "metadata": {},
   "source": [
    "### Deque"
   ]
  },
  {
   "cell_type": "code",
   "execution_count": null,
   "metadata": {},
   "outputs": [],
   "source": [
    "from collections import deque  # Import deque from collections module\n",
    "\n",
    "# Input list of numbers and the window size 'k'\n",
    "nums = [1, 3, -1, -3, 5, 3, 6, 7]\n",
    "k = 3\n",
    "\n",
    "# Initialize an empty deque to store indices of elements in the current window\n",
    "dq = deque()\n",
    "\n",
    "# Initialize an empty list to store the maximum values for each sliding window\n",
    "result = []\n",
    "\n",
    "# Iterate through each index of the nums list\n",
    "for i in range(len(nums)):\n",
    "    \n",
    "    # While there are elements in the deque and the current element is greater than or equal\n",
    "    # to the element at the index stored in the deque, remove the last index from the deque\n",
    "    # (because it is no longer useful for finding the maximum in the window)\n",
    "    while dq and nums[dq[-1]] <= nums[i]:\n",
    "        dq.pop()\n",
    "    \n",
    "    # Append the current index 'i' to the deque (we add indices of elements in descending order)\n",
    "    dq.append(i)\n",
    "    \n",
    "    # If the first element in the deque is out of the bounds of the current window, remove it\n",
    "    # This ensures the deque only contains indices of elements in the current window of size 'k'\n",
    "    if dq[0] == i - k:\n",
    "        dq.popleft()\n",
    "\n",
    "    # If the index 'i' has reached the point where the first full window is formed (i.e., i >= k - 1),\n",
    "    # append the element at the front of the deque (which is the maximum element in the current window)\n",
    "    if i >= k - 1:\n",
    "        result.append(nums[dq[0]])\n",
    "\n",
    "# Print the list of maximum elements for each sliding window\n",
    "print(result)"
   ]
  },
  {
   "cell_type": "markdown",
   "metadata": {},
   "source": [
    "### Defaultdict"
   ]
  },
  {
   "cell_type": "code",
   "execution_count": null,
   "metadata": {},
   "outputs": [],
   "source": [
    "# Given a list of strings, group anagrams together. An anagram is a word formed by rearranging the letters of another word.\n",
    "from collections import defaultdict\n",
    "\n",
    "strs = [\"eat\", \"tea\", \"tan\", \"ate\", \"nat\", \"bat\"]\n",
    "anagram_groups = defaultdict(list)\n",
    "\n",
    "for word in strs:\n",
    "    key = tuple(sorted(word))\n",
    "    print(key)\n",
    "\n",
    "    # Notice how we can directly append\n",
    "    anagram_groups[key].append(word)\n",
    "\n",
    "print(anagram_groups)\n",
    "print(list(anagram_groups.values()))\n"
   ]
  },
  {
   "cell_type": "markdown",
   "metadata": {},
   "source": [
    "### Namedtuple"
   ]
  },
  {
   "cell_type": "code",
   "execution_count": null,
   "metadata": {},
   "outputs": [],
   "source": [
    "from collections import namedtuple\n",
    "import math\n",
    "###\n",
    "\n",
    "# Define the Point class using namedtuple\n",
    "Point = namedtuple('Point', ['x', 'y'])\n",
    "\n",
    "# Function to calculate the Euclidean distance between two points\n",
    "def distance(p1, p2):\n",
    "    return math.sqrt((p2.x - p1.x) ** 2 + (p2.y - p1.y) ** 2)\n",
    "\n",
    "# Test the function\n",
    "p1 = Point(1, 2)\n",
    "p2 = Point(4, 6)\n",
    "print(f\"Distance between {p1} and {p2}: {distance(p1, p2)}\")  # Output should be 5.0\n"
   ]
  },
  {
   "cell_type": "markdown",
   "metadata": {},
   "source": [
    "## Comprehensions"
   ]
  },
  {
   "cell_type": "code",
   "execution_count": null,
   "metadata": {},
   "outputs": [],
   "source": [
    "# Typical approach:\n",
    "###\n",
    "\n",
    "numbers = [1, 2, 3, 4, 5]\n",
    "squares_of_evens = []\n",
    "\n",
    "for num in numbers:\n",
    "    if num % 2 == 0:\n",
    "        squares_of_evens.append(num ** 2)\n",
    "\n",
    "print(squares_of_evens)\n",
    "\n",
    "# A: for num in numbers:\n",
    "#     B: if num % 2 == 0:\n",
    "#         squares_of_evens.append(C: num ** 2)"
   ]
  },
  {
   "cell_type": "code",
   "execution_count": null,
   "metadata": {},
   "outputs": [],
   "source": [
    "# List comprehension\n",
    "###\n",
    "squares_of_evens = [num ** 2 for num in numbers if num % 2 == 0]\n",
    "\n",
    "# squares_of_evens = [C A B]\n",
    "\n",
    "print(squares_of_evens)"
   ]
  },
  {
   "cell_type": "code",
   "execution_count": null,
   "metadata": {},
   "outputs": [],
   "source": [
    "# Set comprehension\n",
    "###\n",
    "squares_of_evens = {num ** 2 for num in numbers if num % 2 == 0}\n",
    "print(squares_of_evens)"
   ]
  },
  {
   "cell_type": "code",
   "execution_count": null,
   "metadata": {},
   "outputs": [],
   "source": [
    "# Dictionary comprehension\n",
    "###\n",
    "squares_of_evens = {num : num ** 2 for num in numbers if num % 2 == 0}\n",
    "print(squares_of_evens)"
   ]
  },
  {
   "cell_type": "markdown",
   "metadata": {},
   "source": [
    "## Lambda, Map, Filter, Sorted"
   ]
  },
  {
   "cell_type": "code",
   "execution_count": null,
   "metadata": {},
   "outputs": [],
   "source": [
    "# Lambda example: Adding two numbers\n",
    "###\n",
    "add = lambda x, y: x + y\n",
    "print(add(3, 4))\n",
    "\n",
    "numbers = [1, 2, 3, 4]\n",
    "squared = map(lambda x: x**2, numbers)\n",
    "print(list(squared))\n",
    "\n",
    "# Lambda used with filter\n",
    "numbers = [1, 2, 3, 4, 5]\n",
    "even_numbers = filter(lambda x: x % 2 == 0, numbers)\n",
    "print(list(even_numbers))\n",
    "\n",
    "# List of tuples (name, age)\n",
    "people = [(\"Alice\", 25), (\"Bob\", 30), (\"Charlie\", 20), (\"David\", 35)]\n",
    "\n",
    "# Sorting by the second element (age) using a lambda function\n",
    "sorted_people = sorted(people, key=lambda x: x[1])\n",
    "\n",
    "print(sorted_people)"
   ]
  },
  {
   "cell_type": "markdown",
   "metadata": {},
   "source": [
    "## Zip"
   ]
  },
  {
   "cell_type": "code",
   "execution_count": null,
   "metadata": {},
   "outputs": [],
   "source": [
    "names = [\"Alice\", \"Bob\", \"Charlie\"]\n",
    "ages = [40, 30, 35]\n",
    "combined = zip(names, ages)\n",
    "combined = list(combined)\n",
    "print(combined)  \n",
    "\n",
    "sorted_people = sorted(combined, key=lambda x: x[1])\n",
    "\n",
    "print(sorted_people)"
   ]
  },
  {
   "cell_type": "markdown",
   "metadata": {},
   "source": [
    "## Object-Oriented Programming\n"
   ]
  },
  {
   "cell_type": "code",
   "execution_count": null,
   "metadata": {},
   "outputs": [],
   "source": [
    "# A class is a blueprint for creating objects. \n",
    "# An object is an instance of a class.\n",
    "###\n",
    "\n",
    "class KHParticipant: # Class\n",
    "    def __init__(self, name):\n",
    "        self.name = name # Attribute\n",
    "        self.energyLevel = 100 # Attribute\n",
    "        self.coffeeConsumption = 0 # Attribute\n",
    "\n",
    "    def writeCode(self): # Method\n",
    "        print(f\"{self.name} is coding...\")\n",
    "        self.energyLevel -= 10\n",
    "        if self.energyLevel <= 20:\n",
    "            print(f\"{self.name} needs coffee\")\n",
    "        return self.energyLevel"
   ]
  },
  {
   "cell_type": "code",
   "execution_count": null,
   "metadata": {},
   "outputs": [],
   "source": [
    "p1 = KHParticipant(\"Joanne\")\n",
    "print(p1.name)\n",
    "print(p1.energyLevel)\n",
    "print(p1.coffeeConsumption)\n",
    "for i in range(10):\n",
    "    print(p1.writeCode())"
   ]
  },
  {
   "cell_type": "code",
   "execution_count": null,
   "metadata": {},
   "outputs": [],
   "source": [
    "###\n",
    "class ExperiencedKHParticipant(KHParticipant):\n",
    "    def __init__(self, name):\n",
    "        super().__init__(name)  # Inherit from the KHParticipant class\n",
    "\n",
    "    # Polymorphism allows the writeCode() method to behave differently based on the type of KHParticipant (KHParticipant vs SeniorKHParticipant).\n",
    "    def writeCode(self):\n",
    "        print(f\"{self.name} is speedily coding...\")\n",
    "        self.energyLevel -= 5\n",
    "        if self.energyLevel <= 10:\n",
    "            print(f\"{self.name} needs coffee\")\n",
    "        return self.energyLevel"
   ]
  },
  {
   "cell_type": "code",
   "execution_count": null,
   "metadata": {},
   "outputs": [],
   "source": [
    "p2 = ExperiencedKHParticipant(\"Alex\")\n",
    "print(p2.name)\n",
    "print(p2.energyLevel)\n",
    "print(p2.coffeeConsumption) \n",
    "print(p2.writeCode())"
   ]
  },
  {
   "cell_type": "markdown",
   "metadata": {},
   "source": [
    "## Dunders"
   ]
  },
  {
   "cell_type": "code",
   "execution_count": null,
   "metadata": {},
   "outputs": [],
   "source": [
    "###\n",
    "class Vector:\n",
    "    def __init__(self, x, y):\n",
    "        # Initializing the vector with x and y components\n",
    "        self.x = x\n",
    "        self.y = y\n",
    "    \n",
    "    def __repr__(self):\n",
    "        # This method returns a string representation of the vector\n",
    "        return f\"Vector({self.x}, {self.y})\"\n",
    "    \n",
    "    def __add__(self, other):\n",
    "        # This method defines how two vectors are added\n",
    "        if isinstance(other, Vector):\n",
    "            return Vector(self.x + other.x, self.y + other.y)\n",
    "        return NotImplemented\n",
    "    \n",
    "    def __eq__(self, other):\n",
    "        # This method checks if two vectors are equal\n",
    "        return self.x == other.x and self.y == other.y\n",
    "    \n",
    "    def __str__(self):\n",
    "        # This method returns a readable string for printing\n",
    "        return f\"({self.x}, {self.y})\"\n",
    "\n",
    "# Example usage:\n",
    "v1 = Vector(2, 3)\n",
    "v2 = Vector(4, 1)\n",
    "\n",
    "# Add two vectors\n",
    "v3 = v1 + v2\n",
    "\n",
    "# Print vectors\n",
    "print(\"v1:\", v1)  # Output: v1: (2, 3)\n",
    "print(\"v2:\", v2)  # Output: v2: (4, 1)\n",
    "print(\"v3 (v1 + v2):\", v3)  # Output: v3 (v1 + v2): (6, 4)\n",
    "\n",
    "# Check if two vectors are equal\n",
    "print(\"Are v1 and v2 equal?\", v1 == v2)  # Output: Are v1 and v2 equal? False\n"
   ]
  },
  {
   "cell_type": "markdown",
   "metadata": {},
   "source": [
    "## Iterators and Generators"
   ]
  },
  {
   "cell_type": "markdown",
   "metadata": {},
   "source": [
    "### Iterators"
   ]
  },
  {
   "cell_type": "code",
   "execution_count": null,
   "metadata": {},
   "outputs": [],
   "source": [
    "###\n",
    "class Reverse:\n",
    "    def __init__(self, data):\n",
    "        self.data = data\n",
    "        self.index = len(data)\n",
    "    \n",
    "    def __iter__(self):\n",
    "        return self  # The iterator object\n",
    "    \n",
    "    def __next__(self):\n",
    "        if self.index == 0:\n",
    "            raise StopIteration\n",
    "        self.index = self.index - 1\n",
    "        return self.data[self.index]\n",
    "\n",
    "# Usage of custom iterator\n",
    "rev = Reverse('giraffe')\n",
    "for char in rev:\n",
    "    print(char)\n"
   ]
  },
  {
   "cell_type": "code",
   "execution_count": null,
   "metadata": {},
   "outputs": [],
   "source": [
    "###\n",
    "class FibonacciIterator:\n",
    "    def __init__(self, n):\n",
    "        self.n = n\n",
    "        self.a, self.b = 0, 1\n",
    "        self.count = 0\n",
    "\n",
    "    def __iter__(self):\n",
    "        return self  # The iterator object\n",
    "\n",
    "    def __next__(self):\n",
    "        if self.count >= self.n:\n",
    "            raise StopIteration\n",
    "        self.a, self.b = self.b, self.a + self.b\n",
    "        self.count += 1\n",
    "        return self.a\n",
    "\n",
    "# Usage of FibonacciIterator\n",
    "fib_iter = FibonacciIterator(5)\n",
    "for num in fib_iter:\n",
    "    print(num)\n"
   ]
  },
  {
   "cell_type": "markdown",
   "metadata": {},
   "source": [
    "### Generators"
   ]
  },
  {
   "cell_type": "code",
   "execution_count": null,
   "metadata": {},
   "outputs": [],
   "source": [
    "# Generator Example: Fibonacci Sequence\n",
    "###\n",
    "\n",
    "def fibonacci(n):\n",
    "    a, b = 0, 1\n",
    "    while n > 0:\n",
    "        yield a\n",
    "        a, b = b, a + b\n",
    "        n -= 1\n",
    "\n",
    "# Using the generator\n",
    "for num in fibonacci(7):\n",
    "    print(num)\n"
   ]
  },
  {
   "cell_type": "markdown",
   "metadata": {},
   "source": [
    "## Enum"
   ]
  },
  {
   "cell_type": "code",
   "execution_count": null,
   "metadata": {},
   "outputs": [],
   "source": [
    "from enum import Enum\n",
    "\n",
    "class TaskState(Enum):\n",
    "    NEW = 1\n",
    "    IN_PROGRESS = 2\n",
    "    COMPLETED = 3\n",
    "    ARCHIVED = 4\n",
    "\n",
    "    def description(self):\n",
    "        \"\"\"Return the description of the task state.\"\"\"\n",
    "        if self == TaskState.NEW:\n",
    "            return \"New task\"\n",
    "        elif self == TaskState.IN_PROGRESS:\n",
    "            return \"Task is being worked on\"\n",
    "        elif self == TaskState.COMPLETED:\n",
    "            return \"Task is completed\"\n",
    "        elif self == TaskState.ARCHIVED:\n",
    "            return \"Task is archived\"\n"
   ]
  },
  {
   "cell_type": "code",
   "execution_count": null,
   "metadata": {},
   "outputs": [],
   "source": [
    "def update_task_state(task, new_state):\n",
    "    print(f\"Changing task state from {task.state.name} to {new_state.name}\")\n",
    "    task.state = new_state\n",
    "    print(f\"Updated task state: {task.state.description()}\")\n",
    "\n",
    "# Define a Task class\n",
    "class Task:\n",
    "    def __init__(self, name):\n",
    "        self.name = name\n",
    "        self.state = TaskState.NEW\n",
    "\n",
    "    def __str__(self):\n",
    "        return f\"Task: {self.name}, State: {self.state.name}\"\n",
    "\n",
    "# Create a task\n",
    "task = Task(\"Write documentation\")\n",
    "\n",
    "# Display initial state\n",
    "print(task)\n",
    "\n",
    "# Update state using the Enum\n",
    "update_task_state(task, TaskState.IN_PROGRESS)\n",
    "update_task_state(task, TaskState.COMPLETED)\n"
   ]
  },
  {
   "cell_type": "markdown",
   "metadata": {},
   "source": [
    "## Decorators"
   ]
  },
  {
   "cell_type": "code",
   "execution_count": null,
   "metadata": {},
   "outputs": [],
   "source": [
    "###\n",
    "\n",
    "import time\n",
    "\n",
    "def ticking_timer(func):\n",
    "    def wrapper():\n",
    "        t1 = time.time()\n",
    "        func()\n",
    "        t2 = time.time() - t1\n",
    "        print(f\"{func.__name__} ran in {t2} seconds!\")\n",
    "    return wrapper\n",
    "\n",
    "@ticking_timer\n",
    "def example_func():\n",
    "    time.sleep(1.2)\n",
    "\n",
    "example_func()"
   ]
  }
 ],
 "metadata": {
  "kernelspec": {
   "display_name": "Python 3",
   "language": "python",
   "name": "python3"
  },
  "language_info": {
   "codemirror_mode": {
    "name": "ipython",
    "version": 3
   },
   "file_extension": ".py",
   "mimetype": "text/x-python",
   "name": "python",
   "nbconvert_exporter": "python",
   "pygments_lexer": "ipython3",
   "version": "3.9.7"
  }
 },
 "nbformat": 4,
 "nbformat_minor": 2
}
