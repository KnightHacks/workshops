{
 "cells": [
  {
   "cell_type": "markdown",
   "metadata": {},
   "source": [
    "## Data Structures"
   ]
  },
  {
   "cell_type": "markdown",
   "metadata": {},
   "source": [
    "### Sets"
   ]
  },
  {
   "cell_type": "code",
   "execution_count": null,
   "metadata": {},
   "outputs": [],
   "source": [
    "input_list = [\"apple\", \"banana\", \"apple\", \"orange\", \"banana\", \"grape\"]\n",
    "\n",
    "# This will store the elements we've already seen\n",
    "###"
   ]
  },
  {
   "cell_type": "code",
   "execution_count": null,
   "metadata": {},
   "outputs": [],
   "source": [
    "# Set operations\n",
    "###\n"
   ]
  },
  {
   "cell_type": "markdown",
   "metadata": {},
   "source": [
    "### Heapq"
   ]
  },
  {
   "cell_type": "code",
   "execution_count": null,
   "metadata": {},
   "outputs": [],
   "source": [
    "import heapq\n",
    "\n",
    "numbers = [7, 10, 4, 3, 20, 15]\n",
    "k = 3\n",
    "###\n"
   ]
  },
  {
   "cell_type": "markdown",
   "metadata": {},
   "source": [
    "## Collections"
   ]
  },
  {
   "cell_type": "markdown",
   "metadata": {},
   "source": [
    "### Counter"
   ]
  },
  {
   "cell_type": "code",
   "execution_count": null,
   "metadata": {},
   "outputs": [],
   "source": [
    "# Given a list of integers, find the element that occurs the most frequently. If there is a tie, return the element that appears first.\n",
    "###\n",
    "\n"
   ]
  },
  {
   "cell_type": "code",
   "execution_count": null,
   "metadata": {},
   "outputs": [],
   "source": [
    "from collections import Counter\n",
    "\n",
    "# Define two counters\n",
    "counter1 = Counter({'a': 2, 'b': 3, 'c': 1})\n",
    "counter2 = Counter({'a': 1, 'b': 1, 'd': 4})\n",
    "\n",
    "# Adding the counters\n",
    "result = counter1 + counter2\n",
    "print(result)\n",
    "\n",
    "# Subtracting the counters\n",
    "result = counter1 - counter2\n",
    "print(result)"
   ]
  },
  {
   "cell_type": "markdown",
   "metadata": {},
   "source": [
    "### Deque"
   ]
  },
  {
   "cell_type": "code",
   "execution_count": null,
   "metadata": {},
   "outputs": [],
   "source": [
    "from collections import deque  # Import deque from collections module\n",
    "\n",
    "# Input list of numbers and the window size 'k'\n",
    "nums = [1, 3, -1, -3, 5, 3, 6, 7]\n",
    "k = 3\n",
    "\n",
    "# Initialize an empty deque to store indices of elements in the current window\n",
    "dq = deque()\n",
    "\n",
    "# Initialize an empty list to store the maximum values for each sliding window\n",
    "result = []\n",
    "\n",
    "# Iterate through each index of the nums list\n",
    "for i in range(len(nums)):\n",
    "    \n",
    "    # While there are elements in the deque and the current element is greater than or equal\n",
    "    # to the element at the index stored in the deque, remove the last index from the deque\n",
    "    # (because it is no longer useful for finding the maximum in the window)\n",
    "    while dq and nums[dq[-1]] <= nums[i]:\n",
    "        dq.pop()\n",
    "    \n",
    "    # Append the current index 'i' to the deque (we add indices of elements in descending order)\n",
    "    dq.append(i)\n",
    "    \n",
    "    # If the first element in the deque is out of the bounds of the current window, remove it\n",
    "    # This ensures the deque only contains indices of elements in the current window of size 'k'\n",
    "    if dq[0] == i - k:\n",
    "        dq.popleft()\n",
    "\n",
    "    # If the index 'i' has reached the point where the first full window is formed (i.e., i >= k - 1),\n",
    "    # append the element at the front of the deque (which is the maximum element in the current window)\n",
    "    if i >= k - 1:\n",
    "        result.append(nums[dq[0]])\n",
    "\n",
    "# Print the list of maximum elements for each sliding window\n",
    "print(result)"
   ]
  },
  {
   "cell_type": "markdown",
   "metadata": {},
   "source": [
    "### Defaultdict"
   ]
  },
  {
   "cell_type": "code",
   "execution_count": null,
   "metadata": {},
   "outputs": [],
   "source": [
    "# Given a list of strings, group anagrams together. An anagram is a word formed by rearranging the letters of another word.\n",
    "from collections import defaultdict\n",
    "\n",
    "strs = [\"eat\", \"tea\", \"tan\", \"ate\", \"nat\", \"bat\"]\n",
    "anagram_groups = defaultdict(list)\n",
    "\n",
    "for word in strs:\n",
    "    key = tuple(sorted(word))\n",
    "    print(key)\n",
    "\n",
    "    # Notice how we can directly append\n",
    "    anagram_groups[key].append(word)\n",
    "\n",
    "print(anagram_groups)\n",
    "print(list(anagram_groups.values()))\n"
   ]
  },
  {
   "cell_type": "markdown",
   "metadata": {},
   "source": [
    "### Namedtuple"
   ]
  },
  {
   "cell_type": "code",
   "execution_count": null,
   "metadata": {},
   "outputs": [],
   "source": [
    "from collections import namedtuple\n",
    "import math\n",
    "###\n"
   ]
  },
  {
   "cell_type": "markdown",
   "metadata": {},
   "source": [
    "## Comprehensions"
   ]
  },
  {
   "cell_type": "code",
   "execution_count": null,
   "metadata": {},
   "outputs": [],
   "source": [
    "# Typical approach:\n",
    "###\n",
    "\n",
    "# A: for num in numbers:\n",
    "#     B: if num % 2 == 0:\n",
    "#         squares_of_evens.append(C: num ** 2)"
   ]
  },
  {
   "cell_type": "code",
   "execution_count": null,
   "metadata": {},
   "outputs": [],
   "source": [
    "# List comprehension\n",
    "###\n",
    "\n",
    "# squares_of_evens = [C A B]\n",
    "\n"
   ]
  },
  {
   "cell_type": "code",
   "execution_count": null,
   "metadata": {},
   "outputs": [],
   "source": [
    "# Set comprehension\n",
    "###"
   ]
  },
  {
   "cell_type": "code",
   "execution_count": null,
   "metadata": {},
   "outputs": [],
   "source": [
    "# Dictionary comprehension\n",
    "###"
   ]
  },
  {
   "cell_type": "markdown",
   "metadata": {},
   "source": [
    "## Lambda, Map, Filter, Sorted"
   ]
  },
  {
   "cell_type": "code",
   "execution_count": null,
   "metadata": {},
   "outputs": [],
   "source": [
    "# Lambda example: Adding two numbers\n",
    "###"
   ]
  },
  {
   "cell_type": "markdown",
   "metadata": {},
   "source": [
    "## Zip"
   ]
  },
  {
   "cell_type": "code",
   "execution_count": null,
   "metadata": {},
   "outputs": [],
   "source": [
    "names = [\"Alice\", \"Bob\", \"Charlie\"]\n",
    "ages = [40, 30, 35]\n",
    "combined = zip(names, ages)\n",
    "combined = list(combined)\n",
    "print(combined)  \n",
    "\n",
    "sorted_people = sorted(combined, key=lambda x: x[1])\n",
    "\n",
    "print(sorted_people)"
   ]
  },
  {
   "cell_type": "markdown",
   "metadata": {},
   "source": [
    "## Object-Oriented Programming\n"
   ]
  },
  {
   "cell_type": "code",
   "execution_count": null,
   "metadata": {},
   "outputs": [],
   "source": [
    "# A class is a blueprint for creating objects. \n",
    "# An object is an instance of a class.\n",
    "###\n",
    "\n"
   ]
  },
  {
   "cell_type": "code",
   "execution_count": null,
   "metadata": {},
   "outputs": [],
   "source": [
    "p1 = KHParticipant(\"Joanne\")\n",
    "print(p1.name)\n",
    "print(p1.energyLevel)\n",
    "print(p1.coffeeConsumption)\n",
    "for i in range(10):\n",
    "    print(p1.writeCode())"
   ]
  },
  {
   "cell_type": "code",
   "execution_count": null,
   "metadata": {},
   "outputs": [],
   "source": [
    "###"
   ]
  },
  {
   "cell_type": "code",
   "execution_count": null,
   "metadata": {},
   "outputs": [],
   "source": [
    "p2 = ExperiencedKHParticipant(\"Alex\")\n",
    "print(p2.name)\n",
    "print(p2.energyLevel)\n",
    "print(p2.coffeeConsumption) \n",
    "print(p2.writeCode())"
   ]
  },
  {
   "cell_type": "markdown",
   "metadata": {},
   "source": [
    "## Dunders"
   ]
  },
  {
   "cell_type": "code",
   "execution_count": null,
   "metadata": {},
   "outputs": [],
   "source": [
    "###\n"
   ]
  },
  {
   "cell_type": "markdown",
   "metadata": {},
   "source": [
    "## Iterators and Generators"
   ]
  },
  {
   "cell_type": "markdown",
   "metadata": {},
   "source": [
    "### Iterators"
   ]
  },
  {
   "cell_type": "code",
   "execution_count": null,
   "metadata": {},
   "outputs": [],
   "source": [
    "###\n"
   ]
  },
  {
   "cell_type": "code",
   "execution_count": null,
   "metadata": {},
   "outputs": [],
   "source": [
    "###\n"
   ]
  },
  {
   "cell_type": "markdown",
   "metadata": {},
   "source": [
    "### Generators"
   ]
  },
  {
   "cell_type": "code",
   "execution_count": null,
   "metadata": {},
   "outputs": [],
   "source": [
    "# Generator Example: Fibonacci Sequence\n",
    "###\n"
   ]
  },
  {
   "cell_type": "markdown",
   "metadata": {},
   "source": [
    "## Enum"
   ]
  },
  {
   "cell_type": "code",
   "execution_count": null,
   "metadata": {},
   "outputs": [],
   "source": [
    "from enum import Enum\n",
    "\n",
    "class TaskState(Enum):\n",
    "    NEW = 1\n",
    "    IN_PROGRESS = 2\n",
    "    COMPLETED = 3\n",
    "    ARCHIVED = 4\n",
    "\n",
    "    def description(self):\n",
    "        \"\"\"Return the description of the task state.\"\"\"\n",
    "        if self == TaskState.NEW:\n",
    "            return \"New task\"\n",
    "        elif self == TaskState.IN_PROGRESS:\n",
    "            return \"Task is being worked on\"\n",
    "        elif self == TaskState.COMPLETED:\n",
    "            return \"Task is completed\"\n",
    "        elif self == TaskState.ARCHIVED:\n",
    "            return \"Task is archived\"\n"
   ]
  },
  {
   "cell_type": "code",
   "execution_count": null,
   "metadata": {},
   "outputs": [],
   "source": [
    "def update_task_state(task, new_state):\n",
    "    print(f\"Changing task state from {task.state.name} to {new_state.name}\")\n",
    "    task.state = new_state\n",
    "    print(f\"Updated task state: {task.state.description()}\")\n",
    "\n",
    "# Define a Task class\n",
    "class Task:\n",
    "    def __init__(self, name):\n",
    "        self.name = name\n",
    "        self.state = TaskState.NEW\n",
    "\n",
    "    def __str__(self):\n",
    "        return f\"Task: {self.name}, State: {self.state.name}\"\n",
    "\n",
    "# Create a task\n",
    "task = Task(\"Write documentation\")\n",
    "\n",
    "# Display initial state\n",
    "print(task)\n",
    "\n",
    "# Update state using the Enum\n",
    "update_task_state(task, TaskState.IN_PROGRESS)\n",
    "update_task_state(task, TaskState.COMPLETED)\n"
   ]
  },
  {
   "cell_type": "markdown",
   "metadata": {},
   "source": [
    "## Decorators"
   ]
  },
  {
   "cell_type": "code",
   "execution_count": null,
   "metadata": {},
   "outputs": [],
   "source": [
    "###\n",
    "\n"
   ]
  }
 ],
 "metadata": {
  "kernelspec": {
   "display_name": "Python 3",
   "language": "python",
   "name": "python3"
  },
  "language_info": {
   "codemirror_mode": {
    "name": "ipython",
    "version": 3
   },
   "file_extension": ".py",
   "mimetype": "text/x-python",
   "name": "python",
   "nbconvert_exporter": "python",
   "pygments_lexer": "ipython3",
   "version": "3.9.7"
  }
 },
 "nbformat": 4,
 "nbformat_minor": 2
}
